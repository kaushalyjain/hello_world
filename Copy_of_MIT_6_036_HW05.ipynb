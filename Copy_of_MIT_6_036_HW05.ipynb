{
  "nbformat": 4,
  "nbformat_minor": 0,
  "metadata": {
    "colab": {
      "name": "Copy of MIT 6.036 HW05",
      "provenance": [],
      "collapsed_sections": [],
      "include_colab_link": true
    },
    "kernelspec": {
      "name": "python3",
      "display_name": "Python 3"
    }
  },
  "cells": [
    {
      "cell_type": "markdown",
      "metadata": {
        "id": "view-in-github",
        "colab_type": "text"
      },
      "source": [
        "<a href=\"https://colab.research.google.com/github/kaushalyjain/hello_world/blob/master/Copy_of_MIT_6_036_HW05.ipynb\" target=\"_parent\"><img src=\"https://colab.research.google.com/assets/colab-badge.svg\" alt=\"Open In Colab\"/></a>"
      ]
    },
    {
      "cell_type": "markdown",
      "metadata": {
        "id": "nU3rlhVsaHpo",
        "colab_type": "text"
      },
      "source": [
        "#MIT 6.036 Fall 2019: Homework 5"
      ]
    },
    {
      "cell_type": "code",
      "metadata": {
        "id": "faW-t7llapsY",
        "colab_type": "code",
        "colab": {}
      },
      "source": [
        "import numpy as np"
      ],
      "execution_count": 0,
      "outputs": []
    },
    {
      "cell_type": "markdown",
      "metadata": {
        "id": "VkL4viEaJq7u",
        "colab_type": "text"
      },
      "source": [
        "## Setup\n",
        "First, download the code distribution for this homework that contains test cases and helper functions.\n",
        "\n",
        "Run the next code block to download and import the code for this lab."
      ]
    },
    {
      "cell_type": "code",
      "metadata": {
        "id": "vcyC3YnGJybh",
        "colab_type": "code",
        "outputId": "20a2b4ea-5934-466f-fd8d-7ee17f622967",
        "colab": {
          "base_uri": "https://localhost:8080/",
          "height": 105
        }
      },
      "source": [
        "!rm -rf code_and_data_for_hw05*\n",
        "!wget --quiet https://introml.odl.mit.edu/cat-soop/_static/6.036/homework/hw05/code_and_data_for_hw05.zip\n",
        "!unzip code_and_data_for_hw05.zip\n",
        "!mv code_and_data_for_hw05/* .\n",
        "  \n",
        "from code_for_hw5 import *"
      ],
      "execution_count": 37,
      "outputs": [
        {
          "output_type": "stream",
          "text": [
            "Archive:  code_and_data_for_hw05.zip\n",
            "   creating: code_and_data_for_hw05/\n",
            "  inflating: code_and_data_for_hw05/code_for_hw5.py  \n",
            "  inflating: code_and_data_for_hw05/auto-mpg-regression.tsv  \n",
            "  inflating: code_and_data_for_hw05/auto.py  \n"
          ],
          "name": "stdout"
        }
      ]
    },
    {
      "cell_type": "markdown",
      "metadata": {
        "id": "0OYsAwoGasfU",
        "colab_type": "text"
      },
      "source": [
        "## 6) Linear Regression  - going downhill\n",
        "\n",
        "We will now write some general Python code to compute the gradient of the squared-loss objective, following the structure of the expression, and the rules of calculus.  Note that this style of writing the gradient functions maps directly into the chain-rule steps required to compute the gradient, but produces code that is inefficient, because of duplicated computations. It is straightforward to implement more efficient versions if you want to use them for larger problems.\n",
        "\n",
        "### 6.1) Some basic functions\n",
        "\n",
        "We start by defining some basic functions for computing the mean squared loss.  Note that we want these to work for any\n",
        "value of $n$. That is, `x` could be a single feature vector or a full data matrix, and similarly for `y`."
      ]
    },
    {
      "cell_type": "code",
      "metadata": {
        "id": "a_WFv1pzd30E",
        "colab_type": "code",
        "colab": {}
      },
      "source": [
        "# In all the following definitions:\n",
        "# x is d by n : input data\n",
        "# y is 1 by n : output regression values\n",
        "# th is d by 1 : weights\n",
        "# th0 is 1 by 1 or scalar\n",
        "def lin_reg(x, th, th0):\n",
        "    \"\"\" Returns the predicted y\n",
        "\n",
        "    >>> X = np.array([[ 1.,  2.,  3.,  4.], [ 1.,  1.,  1.,  1.]])\n",
        "    >>> th = np.array([[ 1.  ], [ 0.05]]) ; th0 = np.array([[ 0.]])\n",
        "    >>> lin_reg(X, th, th0).tolist()\n",
        "    [[1.05, 2.05, 3.05, 4.05]]\n",
        "    >>> th = np.array([[ 1.  ], [ 0.05]]) ; th0 = np.array([[ 2.]])\n",
        "    >>> lin_reg(X, th, th0).tolist()\n",
        "    [[3.05, 4.05, 5.05, 6.05]]\n",
        "    \"\"\"\n",
        "    return np.dot(th.T, x) + th0\n",
        "def square_loss(x, y, th, th0):\n",
        "    \"\"\" Returns the squared loss between y_pred and y\n",
        "\n",
        "    >>> X = np.array([[ 1.,  2.,  3.,  4.], [ 1.,  1.,  1.,  1.]])\n",
        "    >>> Y = np.array([[ 1. ,  2.2,  2.8,  4.1]])\n",
        "    >>> th = np.array([[ 1.  ], [ 0.05]]) ; th0 = np.array([[ 2.]])\n",
        "    >>> square_loss(X, Y, th, th0).tolist()\n",
        "    [[4.2025, 3.4224999999999985, 5.0625, 3.8025000000000007]]\n",
        "    \"\"\"\n",
        "    return (y - lin_reg(x, th, th0))**2\n",
        "def mean_square_loss(x, y, th, th0):\n",
        "    \"\"\" Return the mean squared loss between y_pred and y\n",
        "\n",
        "    >>> X = np.array([[ 1.,  2.,  3.,  4.], [ 1.,  1.,  1.,  1.]])\n",
        "    >>> Y = np.array([[ 1. ,  2.2,  2.8,  4.1]])\n",
        "    >>> th = np.array([[ 1.  ], [ 0.05]]) ; th0 = np.array([[ 2.]])\n",
        "    >>> mean_square_loss(X, Y, th, th0).tolist()\n",
        "    [[4.1225]]\n",
        "    \"\"\"\n",
        "    # the axis=1 and keepdims=True are important when x is a full matrix\n",
        "    return np.mean(square_loss(x, y, th, th0), axis = 1, keepdims = True)"
      ],
      "execution_count": 0,
      "outputs": []
    },
    {
      "cell_type": "markdown",
      "metadata": {
        "id": "Oe9BjKuwd7uL",
        "colab_type": "text"
      },
      "source": [
        "### 6.2) Gradients with respect to $\\theta$\n",
        "\n",
        "Now, let's compute the gradients with respect to $\\theta$. Make sure that they work both for data matrices and label vectors.  You can write one function at a time, some of the checks will apply to each function independently."
      ]
    },
    {
      "cell_type": "code",
      "metadata": {
        "id": "VrdkQNFUf3fD",
        "colab_type": "code",
        "colab": {}
      },
      "source": [
        "# Write a function that returns the gradient of lin_reg(x, th, th0)\n",
        "# with respect to th\n",
        "def d_lin_reg_th(x, th, th0):\n",
        "    \"\"\" Returns the gradient of lin_reg(x, th, th0) with respect to th\n",
        "\n",
        "    Note that for array (rather than vector) x, we get a d x n \n",
        "    result. That is to say, this function produces the gradient for\n",
        "    each data point i ... n, with respect to each theta, j ... d.\n",
        "\n",
        "    >>> X = np.array([[ 1.,  2.,  3.,  4.], [ 1.,  1.,  1.,  1.]])\n",
        "    >>> th = np.array([[ 1.  ], [ 0.05]]); th0 = np.array([[ 2.]])\n",
        "    >>> d_lin_reg_th(X[:,0:1], th, th0).tolist()\n",
        "    [[1.0], [1.0]]\n",
        "\n",
        "    >>> d_lin_reg_th(X, th, th0).tolist()\n",
        "    [[1.0, 2.0, 3.0, 4.0], [1.0, 1.0, 1.0, 1.0]]\n",
        "    \"\"\"\n",
        "    return x\n",
        "    pass\n",
        "\n",
        "# Write a function that returns the gradient of square_loss(x, y, th, th0) with\n",
        "# respect to th.  It should be a one-line expression that uses lin_reg and\n",
        "# d_lin_reg_th.\n",
        "def d_square_loss_th(x, y, th, th0):\n",
        "    \"\"\"Returns the gradient of square_loss(x, y, th, th0) with respect to\n",
        "       th.\n",
        "\n",
        "       Note: should be a one-line expression that uses lin_reg and\n",
        "       d_lin_reg_th (i.e., uses the chain rule).\n",
        "\n",
        "       Should work with X, Y as vectors, or as arrays. As in the\n",
        "       discussion of d_lin_reg_th, this should give us back an n x d\n",
        "       array -- so we know the sensitivity of square loss for each\n",
        "       data point i ... n, with respect to each element of theta.\n",
        "\n",
        "    >>> X = np.array([[ 1.,  2.,  3.,  4.], [ 1.,  1.,  1.,  1.]])\n",
        "    >>> Y = np.array([[ 1. ,  2.2,  2.8,  4.1]])\n",
        "    >>> th = np.array([[ 1.  ], [ 0.05]]) ; th0 = np.array([[ 2.]])\n",
        "    >>> d_square_loss_th(X[:,0:1], Y[:,0:1], th, th0).tolist()\n",
        "    [[4.1], [4.1]]\n",
        "\n",
        "    >>> d_square_loss_th(X, Y, th, th0).tolist()\n",
        "    [[4.1, 7.399999999999999, 13.5, 15.600000000000001], [4.1, 3.6999999999999993, 4.5, 3.9000000000000004]]\n",
        "\n",
        "    \"\"\"\n",
        "    return -2 * (y - lin_reg(x, th, th0)) * d_lin_reg_th(x, th, th0)\n",
        "    pass\n",
        "\n",
        "# Write a function that returns the gradient of mean_square_loss(x, y, th, th0) with\n",
        "# respect to th.  It should be a one-line expression that uses d_square_loss_th.\n",
        "def d_mean_square_loss_th(x, y, th, th0):\n",
        "    \"\"\" Returns the gradient of mean_square_loss(x, y, th, th0) with\n",
        "        respect to th.  \n",
        "\n",
        "        Note: It should be a one-line expression that uses d_square_loss_th.\n",
        "\n",
        "    >>> X = np.array([[ 1.,  2.,  3.,  4.], [ 1.,  1.,  1.,  1.]])\n",
        "    >>> Y = np.array([[ 1. ,  2.2,  2.8,  4.1]])\n",
        "    >>> th = np.array([[ 1.  ], [ 0.05]]) ; th0 = np.array([[ 2.]])\n",
        "    >>> d_mean_square_loss_th(X[:,0:1], Y[:,0:1], th, th0).tolist()\n",
        "    [[4.1], [4.1]]\n",
        "\n",
        "    >>> d_mean_square_loss_th(X, Y, th, th0).tolist()\n",
        "    [[10.15], [4.05]]\n",
        "    \"\"\"\n",
        "    # print(\"X =\", repr(X))\n",
        "    # print(\"Y =\", repr(Y))\n",
        "    # print(\"th =\", repr(th), \"th0 =\", repr(th0))\n",
        "    return np.mean(d_square_loss_th(x, y, th, th0), axis = 1, keepdims = True)\n",
        "    pass"
      ],
      "execution_count": 0,
      "outputs": []
    },
    {
      "cell_type": "code",
      "metadata": {
        "id": "BfdC1yUnxv5p",
        "colab_type": "code",
        "colab": {}
      },
      "source": [
        ""
      ],
      "execution_count": 0,
      "outputs": []
    },
    {
      "cell_type": "markdown",
      "metadata": {
        "id": "UqQVLjZ1gGvd",
        "colab_type": "text"
      },
      "source": [
        "### 6.3) Gradients with respect to $\\theta_0$\n",
        "\n",
        "Now, let's compute the gradients with respect to $\\theta_0$. Make sure that they work both for data matrices and label vectors.  You can write one function at a time, some of the checks will apply to each function independently."
      ]
    },
    {
      "cell_type": "code",
      "metadata": {
        "id": "RBUSolgxgSgx",
        "colab_type": "code",
        "colab": {}
      },
      "source": [
        "# Write a function that returns the gradient of lin_reg(x, th, th0)\n",
        "# with respect to th0. Hint: Think carefully about what the dimensions of the returned value should be!\n",
        "def d_lin_reg_th0(x, th, th0):\n",
        "    \"\"\" Returns the gradient of lin_reg(x, th, th0) with respect to th0.\n",
        "\n",
        "    >>> x = np.array([[ 1.,  2.,  3.,  4.], [ 1.,  1.,  1.,  1.]])\n",
        "    >>> th = np.array([[ 1.  ], [ 0.05]]) ; th0 = np.array([[ 2.]])\n",
        "    >>> d_lin_reg_th0(x, th, th0).tolist()\n",
        "    [[1.0, 1.0, 1.0, 1.0]]\n",
        "    \"\"\"\n",
        "    return np.ones((1, x.shape[1]))\n",
        "    pass\n",
        "\n",
        "# Write a function that returns the gradient of square_loss(x, y, th, th0) with\n",
        "# respect to th0.  It should be a one-line expression that uses lin_reg and\n",
        "# d_lin_reg_th0.\n",
        "def d_square_loss_th0(x, y, th, th0):\n",
        "    \"\"\" Returns the gradient of square_loss(x, y, th, th0) with\n",
        "        respect to th0.\n",
        "\n",
        "    # Note: uses broadcasting!\n",
        "\n",
        "    >>> X = np.array([[ 1.,  2.,  3.,  4.], [ 1.,  1.,  1.,  1.]])\n",
        "    >>> Y = np.array([[ 1. ,  2.2,  2.8,  4.1]])\n",
        "    >>> th = np.array([[ 1.  ], [ 0.05]]) ; th0 = np.array([[ 2.]])\n",
        "    >>> d_square_loss_th0(X, Y, th, th0).tolist()\n",
        "    [[4.1, 3.6999999999999993, 4.5, 3.9000000000000004]]\n",
        "    \"\"\"\n",
        "    return -2 * (y - lin_reg(x, th, th0)) * d_lin_reg_th0(x, th, th0)\n",
        "    pass\n",
        "\n",
        "# Write a function that returns the gradient of mean_square_loss(x, y, th, th0) with\n",
        "# respect to th0.  It should be a one-line expression that uses d_square_loss_th0.\n",
        "def d_mean_square_loss_th0(x, y, th, th0):\n",
        "    \"\"\" Returns the gradient of mean_square_loss(x, y, th, th0) with\n",
        "    respect to th0.\n",
        "\n",
        "    >>> X = np.array([[ 1.,  2.,  3.,  4.], [ 1.,  1.,  1.,  1.]])\n",
        "    >>> Y = np.array([[ 1. ,  2.2,  2.8,  4.1]])\n",
        "    >>> th = np.array([[ 1.  ], [ 0.05]]) ; th0 = np.array([[ 2.]])\n",
        "    >>> d_mean_square_loss_th0(X, Y, th, th0).tolist()\n",
        "    [[4.05]]\n",
        "    \"\"\"\n",
        "    return np.mean(d_square_loss_th0(x, y, th, th0), axis= 1, keepdims = True)\n",
        "    pass"
      ],
      "execution_count": 0,
      "outputs": []
    },
    {
      "cell_type": "code",
      "metadata": {
        "id": "mEuJdoJAr1uP",
        "colab_type": "code",
        "outputId": "f63b1fc1-423e-4615-d96f-d6ca68e9fe3d",
        "colab": {
          "base_uri": "https://localhost:8080/",
          "height": 175
        }
      },
      "source": [
        "tests_for_gradient_of_weights(d_lin_reg_th, d_square_loss_th, d_mean_square_loss_th, d_lin_reg_th0, d_square_loss_th0, d_mean_square_loss_th0)"
      ],
      "execution_count": 41,
      "outputs": [
        {
          "output_type": "stream",
          "text": [
            "Test 1 passed\n",
            "Test 2 passed\n",
            "Test 3 passed\n",
            "Test 4 passed\n",
            "Test 5 passed\n",
            "Test 6 passed\n",
            "Test 7 passed\n",
            "Test 8 passed\n",
            "Test 9 passed\n"
          ],
          "name": "stdout"
        }
      ]
    },
    {
      "cell_type": "markdown",
      "metadata": {
        "id": "cb1FsfCTgjMq",
        "colab_type": "text"
      },
      "source": [
        "## 7) Going down the ridge\n",
        "\n",
        "Now, let's add a regularizer.  The ridge objective can be implemented as follows:"
      ]
    },
    {
      "cell_type": "code",
      "metadata": {
        "id": "tIl6pE-ziLFb",
        "colab_type": "code",
        "colab": {}
      },
      "source": [
        "# In all the following definitions:\n",
        "# x is d by n : input data\n",
        "# y is 1 by n : output regression values\n",
        "# th is d by 1 : weights\n",
        "# th0 is 1 by 1 or scalar\n",
        "def ridge_obj(x, y, th, th0, lam):\n",
        "    return np.mean(square_loss(x, y, th, th0), axis = 1, keepdims = True) + lam * np.linalg.norm(th)**2"
      ],
      "execution_count": 0,
      "outputs": []
    },
    {
      "cell_type": "markdown",
      "metadata": {
        "id": "R314XINoigFB",
        "colab_type": "text"
      },
      "source": [
        "Let's extend our previous code for the gradient of the mean square loss to compute the gradient of the ridge objective with respect to $\\theta$.  Our previous solutions for the non-ridge case: `d_mean_square_loss_th` and `d_mean_square_loss\n",
        "_th0` will be defined for you in the grader, so feel free to call them!"
      ]
    },
    {
      "cell_type": "code",
      "metadata": {
        "id": "XQ4Dy26vijP4",
        "colab_type": "code",
        "colab": {}
      },
      "source": [
        "def d_ridge_obj_th(x, y, th, th0, lam):\n",
        "    \"\"\"Return the derivative of the ridge objective value with respect\n",
        "    to theta.\n",
        "\n",
        "    Note: uses broadcasting to add d x n to d x 1 array below\n",
        "\n",
        "    >>> X = np.array([[ 1.,  2.,  3.,  4.], [ 1.,  1.,  1.,  1.]])\n",
        "    >>> Y = np.array([[ 1. ,  2.2,  2.8,  4.1]])\n",
        "    >>> th = np.array([[ 1.  ], [ 0.05]]) ; th0 = np.array([[ 2.]])\n",
        "    >>> d_ridge_obj_th(X, Y, th, th0, 0.0).tolist()\n",
        "    [[10.15], [4.05]]\n",
        "    >>> d_ridge_obj_th(X, Y, th, th0, 0.5).tolist()\n",
        "    [[11.15], [4.1]]\n",
        "    >>> d_ridge_obj_th(X, Y, th, th0, 100.).tolist()\n",
        "    [[210.15], [14.05]]\n",
        "    \"\"\"\n",
        "    return d_mean_square_loss_th(x,y,th,th0) + 2*lam*th\n",
        "    pass\n",
        "\n",
        "def d_ridge_obj_th0(x, y, th, th0, lam):\n",
        "    \"\"\"Return the derivative of the ridge objective value with respect\n",
        "    to theta.\n",
        "\n",
        "    Note: uses broadcasting to add d x n to d x 1 array below\n",
        "\n",
        "    >>> X = np.array([[ 1.,  2.,  3.,  4.], [ 1.,  1.,  1.,  1.]])\n",
        "    >>> Y = np.array([[ 1. ,  2.2,  2.8,  4.1]])\n",
        "    >>> th = np.array([[ 1.  ], [ 0.05]]) ; th0 = np.array([[ 2.]])\n",
        "    >>> d_ridge_obj_th0(X, Y, th, th0, 0.0).tolist()\n",
        "    [[4.05]]\n",
        "    >>> d_ridge_obj_th0(X, Y, th, th0, 0.5).tolist()\n",
        "    [[4.05]]\n",
        "    >>> d_ridge_obj_th0(X, Y, th, th0, 100.).tolist()\n",
        "    [[4.05]]\n",
        "    \"\"\"\n",
        "    return d_mean_square_loss_th0(x,y,th,th0) \n",
        "    pass"
      ],
      "execution_count": 0,
      "outputs": []
    },
    {
      "cell_type": "code",
      "metadata": {
        "id": "NAp6J4LhsL7J",
        "colab_type": "code",
        "outputId": "68c00fe0-5239-4169-cd47-483fbc7e2951",
        "colab": {
          "base_uri": "https://localhost:8080/",
          "height": 87
        }
      },
      "source": [
        "tests_for_d_ridge_obj(d_ridge_obj_th, d_ridge_obj_th0)"
      ],
      "execution_count": 44,
      "outputs": [
        {
          "output_type": "stream",
          "text": [
            "Test 1 passed\n",
            "Test 2 passed\n",
            "Test 3 passed\n",
            "Test 4 passed\n"
          ],
          "name": "stdout"
        }
      ]
    },
    {
      "cell_type": "markdown",
      "metadata": {
        "id": "vO2Ebhn3i33z",
        "colab_type": "text"
      },
      "source": [
        "## 8) Stochastic gradient\n",
        "\n",
        "We will now implement stochastic gradient descent in a general way,\n",
        "similar to what we did with gradient descent (`gd`).\n",
        "\n",
        "The calling conventions for `sgd` are similar to those of `gd` except\n",
        "that we need to pass in the data and labels for the problem.\n",
        "\n",
        "(Recall that the *stochastic* part refers to using a randomly selected point and\n",
        "corresponding label from the given dataset to perform an update. Therefore, your objective function for a given step wil\n",
        "l need to take this into account.)\n",
        "\n",
        "* `X`: a standard data array (d by n)\n",
        "* `y`: a standard labels row vector (1 by n)\n",
        "* `J`: a cost function whose input is a data point (a column vector), a\n",
        "  label (1 by 1) and a weight vector `w` (a column vector) (in that order), and which returns a\n",
        "  scalar.\n",
        "* `dJ`: a cost function gradient (corresponding to `J`) whose input is a data point (a column vector), a\n",
        "  label (1 by 1) and a weight vector `w` (a column vector) (also in that order), and which returns a\n",
        "  column vector.\n",
        "* `w0`: an initial value of weight vector $w$, which is a column vector.\n",
        "* `step_size_fn`: a function that is given the (zero-indexed) iteration index (an\n",
        "  integer) and returns a step size.\n",
        "* `max_iter`: the number of iterations to perform\n",
        "\n",
        "It returns a tuple (like `gd`):\n",
        "\n",
        "* `w`: the value of the weight vector at the final step\n",
        "* `fs`: the list of values of $J$ found during all the iterations\n",
        "* `ws`: the list of values of $w$ found during all the iterations\n",
        "\n",
        "**Note:** `w` should be the value one gets after applying stochastic\n",
        "gradient descent to `w0` for `max_iter-1` iterations (we call this the\n",
        "final step). The first element of `fs` should be the value of `J`\n",
        "calculated with `w0`, and `fs` should have length `max_iter`;\n",
        "similarly, the first element of `ws` should be `w0`, and `ws` should\n",
        "have length `max_iter`.\n",
        "\n",
        "You might find the function `np.random.randint(n)` useful in your implementation.\n",
        "\n",
        "**Hint:** This is a short function; our implementation is around 10\n",
        "  lines.\n",
        "  \n",
        "  The main function to implement is below."
      ]
    },
    {
      "cell_type": "code",
      "metadata": {
        "id": "oU1DoLD5jYYQ",
        "colab_type": "code",
        "colab": {}
      },
      "source": [
        "def sgd(X, y, J, dJ, w0, step_size_fn, max_iter):\n",
        "    \"\"\"Implements stochastic gradient descent\n",
        "\n",
        "    Inputs:\n",
        "    X: a standard data array (d by n)\n",
        "    y: a standard labels row vector (1 by n)\n",
        "\n",
        "    J: a cost function whose input is a data point (a column vector),\n",
        "    a label (1 by 1) and a weight vector w (a column vector) (in that\n",
        "    order), and which returns a scalar.\n",
        "\n",
        "    dJ: a cost function gradient (corresponding to J) whose input is a\n",
        "    data point (a column vector), a label (1 by 1) and a weight vector\n",
        "    w (a column vector) (also in that order), and which returns a\n",
        "    column vector.\n",
        "\n",
        "    w0: an initial value of weight vector w, which is a column\n",
        "    vector.\n",
        "\n",
        "    step_size_fn: a function that is given the (zero-indexed)\n",
        "    iteration index (an integer) and returns a step size.\n",
        "\n",
        "    max_iter: the number of iterations to perform\n",
        "\n",
        "    Returns: a tuple (like gd):\n",
        "    w: the value of the weight vector at the final step\n",
        "    fs: the list of values of J found during all the iterations\n",
        "    ws: the list of values of w found during all the iterations\n",
        "\n",
        "    \"\"\"\n",
        "\n",
        "    w = w0\n",
        "    fs = []\n",
        "    ws = []\n",
        "    \n",
        "    for iter in range(max_iter):\n",
        "        i = np.random.randint(X.shape[1])\n",
        "        Xi = X[:,i:i+1]\n",
        "        yi = y[:,i:i+1]\n",
        "        fs.append(J(Xi,yi,w))\n",
        "        ws.append(w)\n",
        "        w = w - step_size_fn(iter)*dJ(Xi,yi,w)\n",
        "        \n",
        "    return w,fs,ws\n",
        "    "
      ],
      "execution_count": 0,
      "outputs": []
    },
    {
      "cell_type": "markdown",
      "metadata": {
        "id": "FMiqXsP3jZNn",
        "colab_type": "text"
      },
      "source": [
        "The test cases for this problem are provided below (but, as always, you are encouraged to write more if you want to better test your code!). They rely on the function num_grad (taken from the previous week's homework), also provided."
      ]
    },
    {
      "cell_type": "code",
      "metadata": {
        "id": "X9K32gL4jyr4",
        "colab_type": "code",
        "outputId": "4fbfeae6-e2b1-4197-9a9f-09bd7933f35a",
        "colab": {
          "base_uri": "https://localhost:8080/",
          "height": 52
        }
      },
      "source": [
        "sgdTest(sgd)"
      ],
      "execution_count": 46,
      "outputs": [
        {
          "output_type": "stream",
          "text": [
            "Test 1 passed\n",
            "Test 2 passed\n"
          ],
          "name": "stdout"
        }
      ]
    },
    {
      "cell_type": "markdown",
      "metadata": {
        "id": "G9LFTpdkHKNv",
        "colab_type": "text"
      },
      "source": [
        "##9) Predicting mpg values\n",
        "\n",
        "We will now try to synthesize the functions we have written in order to perform ridge regression on the <a href=\"https://docs.google.com/spreadsheets/d/1NapkzC_jPQjFk5EfIXghiJJu1kNCN8wP6vwGLpG_tYk/edit?usp=sharing\">auto-mpg dataset</a> from <a href=\"https://lms.mitx.mit.edu/courses/course-v1:MITx+6.036+2019_Spring/courseware/Week3/week3_lab/2\">lab03</a>. Unlike in lab03, we will now try to predict the actual mpg values of the cars, instead of whether they are above or below the median mpg!\n",
        "\n",
        "As a reminder, the dataset is as follows:\n",
        "    \n",
        "    1. mpg:           continuous\n",
        "    2. cylinders:     multi-valued discrete\n",
        "    3. displacement:  continuous\n",
        "    4. horsepower:    continuous\n",
        "    5. weight:        continuous\n",
        "    6. acceleration:  continuous\n",
        "    7. model year:    multi-valued discrete\n",
        "    8. origin:        multi-valued discrete\n",
        "    9. car name:      string (many values)\n",
        "\n",
        "For convenience, we will choose to not include `model year` and `car name` as features. For the remaining features, we again have the option to keep the raw values, standardize them, or use a one-hot encoding.\n",
        "\n",
        "With this considered, we decide to standardize or one-hot encode all features in this section (we encourage you, though, to try raw features on your own time to see how their performance matches your expectations!).\n",
        "\n",
        "One additional step we perform is to standardize the output values. Note that we did not have to worry about this in a classification context, as all outputs were $\\pm 1$. In a regression context, standardizing the output values can have practical performance gains, again due to better numerical performance of learning algorithms on data which is smaller in magnitude.\n",
        "\n",
        "The metric we will use to measure the quality of our learned predictors is ** Root Mean Square Error (RMSE). ** RMSE is defined as follows:\n",
        "\n",
        "$$ \\text{RMSE} = \\sqrt{ \\frac{1}{n} \\sum_{i=1}^n \\left( y^{(i)} - f(x^{(i)}) \\right)^2 } $$\n",
        "\n",
        "where $f$ is our learned predictor: in this case, $f(x) = \\theta \\cdot x + \\theta_0$. This gives a measure of how far away the true values are from the predicted values, measured in units of mpg.\n",
        "\n",
        "** Note: ** One very important thing to keep in mind when employing standardization is that we need to reverse the standardization when we want to report results. If we standardize output values in the training set by subtracting $\\mu$ and dividing by $\\sigma$, we need to take care to:\n",
        "\n",
        "1. Perform standardization with the same values of $\\mu$ and $\\sigma$ on the test set (Why?) before predicting outputs using our learned predictor.\n",
        "2. Multiply the RMSE calculated on the test set by a factor of $\\sigma$ to report test error (Why?)\n",
        "\n",
        "Given all of this, we now will try using:\n",
        "\n",
        "* Two choices of feature set:\n",
        "\n",
        "  1. `[cylinders=standard, displacement=standard, horsepower=standard, weight=standard, acceleration=standard, origin=one_hot]`\n",
        "  2. `[cylinders=one_hot, displacement=standard, horsepower=standard, weight=standard, acceleration=standard, origin=one_hot]`\n",
        "\n",
        "* Polynomial features (we will construct the polynomial features after having standardized the input data) of orders 1-3\n",
        "\n",
        "* Different choices of the regularization parameter, $\\lambda$. Although, ideally, you would run a grid search over a large range of $\\lambda$, we will ask you to look at the choices $\\lambda = \\{0.01, 0.02, \\cdots, 0.1\\}$ for polynomial features of orders $1$ and $2$, and the choices $\\lambda = \\{20, 40, \\cdots, 200\\}$ for polynomial features of order $3$ (as this is approximately where we found the optimal $\\lambda$ to lie).\n",
        "\n",
        "We will use $10$-fold cross-validation to try all possible combinations of these feature choices and test which is best.\n",
        "\n",
        "Your functions written above will be called by `ridge_min`, (defined for you below), which takes a dataset $(X, y)$ and a hyperparameter, $\\lambda$ as input and returns $\\theta$ and $\\theta_0$ minimizing the ridge regression objective using SGD (this is the analogue of the `svm_min` function that you wrote for homework last week). The learning rate and number of iterations are fixed in this function, and should not be modified for the purpose of answering the below questions (although you should feel free to experiment with these if you are interested!) This function will then further be called by `xval_learning_alg` (also defined below), which returns the average RMSE across all (here, 10) splits of your data when performing cross-validation.\n",
        "\n",
        "**Note**: Even though these functions are also contained in the code file being imported (`code_for_hw5.py`), you should run the below code block so that they will use the version of the functions you have written above, and not the blank versions in the code file. "
      ]
    },
    {
      "cell_type": "code",
      "metadata": {
        "id": "Uy6R1Vhou1eG",
        "colab_type": "code",
        "colab": {}
      },
      "source": [
        "#Concatenates the gradients with respect to theta and theta_0\n",
        "def ridge_obj_grad(x, y, th, th0, lam):\n",
        "    grad_th = d_ridge_obj_th(x, y, th, th0, lam)\n",
        "    grad_th0 = d_ridge_obj_th0(x, y, th, th0, lam)\n",
        "    return np.vstack([grad_th, grad_th0])    \n",
        "  \n",
        "def ridge_min(X, y, lam):\n",
        "    \"\"\" Returns th, th0 that minimize the ridge regression objective\n",
        "\n",
        "    Assumes that X is NOT 1-extended. Interfaces to our sgd by 1-extending\n",
        "    and building corresponding initial weights.\n",
        "    \"\"\"\n",
        "    def min_step_size_fn(i):\n",
        "        return 0.01/(i+1)**0.5\n",
        "\n",
        "    d, n = X.shape\n",
        "    X_extend = np.vstack([X, np.ones((1, n))])\n",
        "    w_init = np.zeros((d+1, 1))\n",
        "\n",
        "    def J(Xj, yj, th):\n",
        "        return float(ridge_obj(Xj[:-1,:], yj, th[:-1,:], th[-1:,:], lam))\n",
        "\n",
        "    def dJ(Xj, yj, th):\n",
        "        return ridge_obj_grad(Xj[:-1,:], yj, th[:-1,:], th[-1:,:], lam)\n",
        "\n",
        "    np.random.seed(0)\n",
        "    w, fs, ws = sgd(X_extend, y, J, dJ, w_init, min_step_size_fn, 1000)\n",
        "    return w[:-1,:], w[-1:,:]\n",
        "  \n",
        "#First finds a predictor on X_train and X_test using the specified value of lam\n",
        "#Then runs on X_test, Y_test to find the RMSE\n",
        "def eval_predictor(X_train, Y_train, X_test, Y_test, lam):\n",
        "    th, th0 = ridge_min(X_train, Y_train, lam)\n",
        "    return np.sqrt(mean_square_loss(X_test, Y_test, th, th0))\n",
        "  \n",
        "#Returns the mean RMSE from cross validation given a dataset (X, y), a value of lam,\n",
        "#and number of folds, k\n",
        "def xval_learning_alg(X, y, lam, k):\n",
        "    _, n = X.shape\n",
        "    idx = list(range(n))\n",
        "    np.random.seed(0)\n",
        "    np.random.shuffle(idx)\n",
        "    X, y = X[:,idx], y[:,idx]\n",
        "\n",
        "    split_X = np.array_split(X, k, axis=1)\n",
        "    split_y = np.array_split(y, k, axis=1)\n",
        "\n",
        "    score_sum = 0\n",
        "    for i in range(k):\n",
        "        X_train = np.concatenate(split_X[:i] + split_X[i+1:], axis=1)\n",
        "        y_train = np.concatenate(split_y[:i] + split_y[i+1:], axis=1)\n",
        "        X_test = np.array(split_X[i])\n",
        "        y_test = np.array(split_y[i])\n",
        "        score_sum += eval_predictor(X_train, y_train, X_test, y_test, lam)\n",
        "    return score_sum/k"
      ],
      "execution_count": 0,
      "outputs": []
    },
    {
      "cell_type": "markdown",
      "metadata": {
        "id": "NYEwfuMdu2hV",
        "colab_type": "text"
      },
      "source": [
        "Below, there is code for creating the two feature sets that you are asked to work with here. Transforming those features further with `make_polynomial_feature_fun` (can be called from the imported file), and running the cross-validation function (defined above), should allow you to answer the questions for this section.\n",
        "\n",
        " **Make sure that you are calling the cross-validation function from above and not the one from the imported file. **\n"
      ]
    },
    {
      "cell_type": "code",
      "metadata": {
        "id": "w2DtmogNLQcF",
        "colab_type": "code",
        "colab": {}
      },
      "source": [
        "# Returns a list of dictionaries.  Keys are the column names, including mpg.\n",
        "auto_data_all = load_auto_data('auto-mpg-regression.tsv')\n",
        "\n",
        "# The choice of feature processing for each feature, mpg is always raw and\n",
        "# does not need to be specified.  Other choices are hw5.standard and hw5.one_hot.\n",
        "# 'name' is not numeric and would need a different encoding.\n",
        "features1 = [('cylinders', standard),\n",
        "            ('displacement', standard),\n",
        "            ('horsepower', standard),\n",
        "            ('weight', standard),\n",
        "            ('acceleration', standard),\n",
        "            ('origin', one_hot)]\n",
        "\n",
        "features2 = [('cylinders', one_hot),\n",
        "            ('displacement', standard),\n",
        "            ('horsepower', standard),\n",
        "            ('weight', standard),\n",
        "            ('acceleration', standard),\n",
        "            ('origin', one_hot)]\n",
        "\n",
        "# Construct the standard data and label arrays\n",
        "#auto_data[0] has the features for choice features1\n",
        "#auto_data[1] has the features for choice features2\n",
        "#The labels for both are the same, and are in auto_values\n",
        "auto_data = [0, 0]\n",
        "auto_values = 0\n",
        "auto_data[0], auto_values = auto_data_and_values(auto_data_all, features1)\n",
        "auto_data[1], _ = auto_data_and_values(auto_data_all, features2)\n",
        "\n",
        "#standardize the y-values\n",
        "auto_values, mu, sigma = std_y(auto_values)\n",
        "\n",
        "#-------------------------------------------------------------------------------\n",
        "# Analyze auto data\n",
        "#-------------------------------------------------------------------------------     \n",
        "       \n",
        "#Your code for cross-validation goes here\n",
        "#Make sure to scale the RMSE values returned by xval_learning_alg by sigma,\n",
        "#as mentioned in the lab, in order to get accurate RMSE values on the dataset\n"
      ],
      "execution_count": 0,
      "outputs": []
    },
    {
      "cell_type": "code",
      "metadata": {
        "id": "CAFZK410VloK",
        "colab_type": "code",
        "colab": {
          "base_uri": "https://localhost:8080/",
          "height": 1000
        },
        "outputId": "d9228511-ef2c-408e-bca7-5111e2e01161"
      },
      "source": [
        "lam = np.zeros((3,10))\n",
        "lam[0] = np.linspace(0.01,0.1, 10)\n",
        "lam[1] = lam[0]\n",
        "lam[2] = np.linspace(20,200, 10)\n",
        "\n",
        "for order in [1,2,3]:\n",
        "  for featureset in [0,1]:\n",
        "    for lamval in lam[order-1]:\n",
        "      accuracy = xval_learning_alg(make_polynomial_feature_fun(order)(auto_data[featureset]), auto_values, lamval, k=10)\n",
        "      print (order, featureset+1, lamval, accuracy, accuracy*sigma)\n",
        "\n",
        "\n",
        "#xval_learning_alg(auto_data[1], auto_values, 0.01, k=10)\n",
        "#xval_learning_alg( auto_data[0], auto_values, 0.01, k=10)"
      ],
      "execution_count": 96,
      "outputs": [
        {
          "output_type": "stream",
          "text": [
            "1 1 0.01 [[0.5482568]] [[4.27368682]]\n",
            "1 1 0.020000000000000004 [[0.54838359]] [[4.27467516]]\n",
            "1 1 0.030000000000000006 [[0.54851674]] [[4.27571308]]\n",
            "1 1 0.04000000000000001 [[0.54865615]] [[4.27679976]]\n",
            "1 1 0.05000000000000001 [[0.5488017]] [[4.27793435]]\n",
            "1 1 0.06000000000000001 [[0.54895329]] [[4.27911604]]\n",
            "1 1 0.07 [[0.54911083]] [[4.28034402]]\n",
            "1 1 0.08 [[0.54927419]] [[4.28161749]]\n",
            "1 1 0.09000000000000001 [[0.5494433]] [[4.28293566]]\n",
            "1 1 0.1 [[0.54961804]] [[4.28429775]]\n",
            "1 2 0.01 [[0.53141291]] [[4.14238798]]\n",
            "1 2 0.020000000000000004 [[0.53162109]] [[4.14401071]]\n",
            "1 2 0.030000000000000006 [[0.53183743]] [[4.14569714]]\n",
            "1 2 0.04000000000000001 [[0.53206179]] [[4.14744603]]\n",
            "1 2 0.05000000000000001 [[0.53229401]] [[4.14925617]]\n",
            "1 2 0.06000000000000001 [[0.53253393]] [[4.15112636]]\n",
            "1 2 0.07 [[0.5327814]] [[4.15305542]]\n",
            "1 2 0.08 [[0.53303628]] [[4.15504219]]\n",
            "1 2 0.09000000000000001 [[0.53329841]] [[4.15708552]]\n",
            "1 2 0.1 [[0.53356765]] [[4.15918428]]\n",
            "2 1 0.01 [[0.51608479]] [[4.02290457]]\n",
            "2 1 0.020000000000000004 [[0.51620232]] [[4.02382067]]\n",
            "2 1 0.030000000000000006 [[0.51632717]] [[4.02479393]]\n",
            "2 1 0.04000000000000001 [[0.51645922]] [[4.02582329]]\n",
            "2 1 0.05000000000000001 [[0.51659834]] [[4.0269077]]\n",
            "2 1 0.06000000000000001 [[0.51674439]] [[4.02804613]]\n",
            "2 1 0.07 [[0.51689723]] [[4.02923756]]\n",
            "2 1 0.08 [[0.51705674]] [[4.03048097]]\n",
            "2 1 0.09000000000000001 [[0.5172228]] [[4.03177539]]\n",
            "2 1 0.1 [[0.51739527]] [[4.03311983]]\n",
            "2 2 0.01 [[0.49806599]] [[3.88244722]]\n",
            "2 2 0.020000000000000004 [[0.49817091]] [[3.88326506]]\n",
            "2 2 0.030000000000000006 [[0.49828214]] [[3.88413209]]\n",
            "2 2 0.04000000000000001 [[0.49839956]] [[3.8850474]]\n",
            "2 2 0.05000000000000001 [[0.49852307]] [[3.88601012]]\n",
            "2 2 0.06000000000000001 [[0.49865254]] [[3.88701939]]\n",
            "2 2 0.07 [[0.49878788]] [[3.88807434]]\n",
            "2 2 0.08 [[0.49892897]] [[3.88917413]]\n",
            "2 2 0.09000000000000001 [[0.4990757]] [[3.89031795]]\n",
            "2 2 0.1 [[0.49922798]] [[3.89150497]]\n",
            "3 1 20.0 [[0.83025915]] [[6.47190804]]\n",
            "3 1 40.0 [[0.77248658]] [[6.0215682]]\n",
            "3 1 60.0 [[0.77423771]] [[6.03521841]]\n",
            "3 1 80.0 [[0.77349138]] [[6.02940068]]\n",
            "3 1 100.0 [[0.77370266]] [[6.03104764]]\n",
            "3 1 120.0 [[0.77624408]] [[6.05085811]]\n",
            "3 1 140.0 [[0.78096734]] [[6.08767614]]\n",
            "3 1 160.0 [[0.78786074]] [[6.1414105]]\n",
            "3 1 180.0 [[0.79773783]] [[6.21840291]]\n",
            "3 1 200.0 [[0.80827909]] [[6.30057253]]\n",
            "3 2 20.0 [[0.73968092]] [[5.7658466]]\n",
            "3 2 40.0 [[0.76181952]] [[5.93841801]]\n",
            "3 2 60.0 [[0.77272928]] [[6.02346008]]\n",
            "3 2 80.0 [[0.77874444]] [[6.07034858]]\n",
            "3 2 100.0 [[0.7844752]] [[6.1150201]]\n",
            "3 2 120.0 [[0.79098951]] [[6.16579939]]\n",
            "3 2 140.0 [[0.79847858]] [[6.22417704]]\n",
            "3 2 160.0 [[0.80695819]] [[6.29027599]]\n",
            "3 2 180.0 [[0.81655081]] [[6.36505093]]\n",
            "3 2 200.0 [[0.8274293]] [[6.44984926]]\n"
          ],
          "name": "stdout"
        }
      ]
    }
  ]
}